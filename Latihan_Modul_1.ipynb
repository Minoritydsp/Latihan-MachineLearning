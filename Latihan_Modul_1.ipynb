{
  "nbformat": 4,
  "nbformat_minor": 0,
  "metadata": {
    "colab": {
      "provenance": [],
      "authorship_tag": "ABX9TyN1I0M/4+aOOe4o01h1xLM4",
      "include_colab_link": true
    },
    "kernelspec": {
      "name": "python3",
      "display_name": "Python 3"
    },
    "language_info": {
      "name": "python"
    }
  },
  "cells": [
    {
      "cell_type": "markdown",
      "metadata": {
        "id": "view-in-github",
        "colab_type": "text"
      },
      "source": [
        "<a href=\"https://colab.research.google.com/github/Minoritydsp/Latihan-MachineLearning/blob/main/Latihan_Modul_1.ipynb\" target=\"_parent\"><img src=\"https://colab.research.google.com/assets/colab-badge.svg\" alt=\"Open In Colab\"/></a>"
      ]
    },
    {
      "cell_type": "code",
      "execution_count": null,
      "metadata": {
        "colab": {
          "base_uri": "https://localhost:8080/"
        },
        "id": "VW_0aqHKsFuF",
        "outputId": "3c66e5ba-6974-48a2-98f9-a3c9b540d5b6"
      },
      "outputs": [
        {
          "output_type": "stream",
          "name": "stdout",
          "text": [
            "Pembelajaran Mesin dan Pembelajaran Mendalam adalah Machine Learning and Deep Learning\n"
          ]
        }
      ],
      "source": [
        "#Print digunakan untuk menampilkan pesan, maka pada notebook yang sudah\n",
        "#dibuat sebelumnya, ketikkan print(“Pembelajaran Mesin dan Pembelajaran\n",
        "#Mendalam adalah Machine Learning and Deep Learning”). Comment pada\n",
        "#Python menggunakan tanda pagar (#), baris yang diberikan comment tidak\n",
        "#akan tereksekusi. Kemudian tekan tombol run cell di sebelah kiri cell untuk\n",
        "#menjalankan sintaks tersebut sehingga hasilnya muncul seperti berikut:\n",
        "\n",
        "print(\"Pembelajaran Mesin dan Pembelajaran Mendalam adalah Machine Learning and Deep Learning\")"
      ]
    },
    {
      "cell_type": "code",
      "source": [
        "#Salah satu bentuk format print pada Python dapat menggunakan format\n",
        "#seperti berikut:\n",
        "\n",
        "nama = \"Dave\"\n",
        "umur = 19\n",
        "print('My name is: {satu}, anda my age is: {dua}'.format(satu = nama, dua = umur))\n",
        "print('My name is: {}, and my age is: {}'.format(umur, nama))"
      ],
      "metadata": {
        "colab": {
          "base_uri": "https://localhost:8080/"
        },
        "id": "dcadAWtM9UNZ",
        "outputId": "6c07c1f5-0b79-4870-bd96-06328b76ba6e"
      },
      "execution_count": null,
      "outputs": [
        {
          "output_type": "stream",
          "name": "stdout",
          "text": [
            "My name is: Dave, anda my age is: 19\n",
            "My name is: 19, and my age is: Dave\n"
          ]
        }
      ]
    },
    {
      "cell_type": "code",
      "source": [
        "#Tipe data Numbers pada Python dapat kita assign ke dalam variabel seperti\n",
        "#contoh berikut:\n",
        "\n",
        "varA = 13\n",
        "varB = 21.5\n",
        "varC = varA*varB-varA\n",
        "varD = varC/(varB+varA)\n",
        "print(varA*varB)\n",
        "print(varC)\n",
        "print(varD)\n",
        "print(varA*varA)"
      ],
      "metadata": {
        "colab": {
          "base_uri": "https://localhost:8080/"
        },
        "id": "QEJf5B-B-mYI",
        "outputId": "ff32355f-421d-4bd5-8a41-a1f358691df4"
      },
      "execution_count": null,
      "outputs": [
        {
          "output_type": "stream",
          "name": "stdout",
          "text": [
            "279.5\n",
            "266.5\n",
            "7.72463768115942\n",
            "169\n"
          ]
        }
      ]
    },
    {
      "cell_type": "code",
      "source": [
        "#Tipe data String pada Python dapat kita assign dengan tanda petik tunggal (‘)\n",
        "#atau ganda (“) seperti contoh berikut:\n",
        "\n",
        "String1 = 'Contoh String petik tunggal, '\n",
        "String2 = \"Contoh String petik ganda, \"\n",
        "String3 = \"Contoh penggunaan keduanya : i'm possible\"\n",
        "print (String1, String2, String3)"
      ],
      "metadata": {
        "colab": {
          "base_uri": "https://localhost:8080/"
        },
        "id": "Shp-IqOM_jCW",
        "outputId": "4578ebdd-c502-4d7e-b03b-b26da6ac2e98"
      },
      "execution_count": null,
      "outputs": [
        {
          "output_type": "stream",
          "name": "stdout",
          "text": [
            "Contoh String petik tunggal,  Contoh String petik ganda,  Contoh penggunaan keduanya : i'm possible\n"
          ]
        }
      ]
    },
    {
      "cell_type": "code",
      "source": [
        "#Selain itu, variabel string dapat diperlakukan sebagai array of character seperti\n",
        "#contoh berikut:\n",
        "\n",
        "String = \"Dustin Petrus\"\n",
        "print(String)\n",
        "print(String[7:])\n",
        "print(String+\" Tempik\")\n",
        "print(String * 2)"
      ],
      "metadata": {
        "colab": {
          "base_uri": "https://localhost:8080/"
        },
        "id": "TwOukCuxB_Dt",
        "outputId": "4eb3313b-c40b-4c97-cbc6-d370a59bdffd"
      },
      "execution_count": null,
      "outputs": [
        {
          "output_type": "stream",
          "name": "stdout",
          "text": [
            "Dustin Petrus\n",
            "Dustin \n",
            "Dustin Petrus Tempik\n",
            "Dustin PetrusDustin Petrus\n"
          ]
        }
      ]
    },
    {
      "cell_type": "code",
      "source": [
        "#Selain itu, variabel string dapat diperlakukan sebagai array of character seperti\n",
        "#contoh berikut:\n",
        "\n",
        "list = ['I', 'love', \"Danet\", \"Ireng\", 2023]\n",
        "print(list)"
      ],
      "metadata": {
        "colab": {
          "base_uri": "https://localhost:8080/"
        },
        "id": "0JbcVzibDGyR",
        "outputId": "c1e236cf-7f65-48ab-8f71-673b1385325f"
      },
      "execution_count": null,
      "outputs": [
        {
          "output_type": "stream",
          "name": "stdout",
          "text": [
            "['I', 'love', 'Danet', 'Ireng', 2023]\n"
          ]
        }
      ]
    },
    {
      "cell_type": "code",
      "source": [
        "#List pada Python dapat dimanipulasi dan diakses elemennya seperti contoh\n",
        "#berikut:\n",
        "\n",
        "list = ['I', 'love', \"Danet\", \"Ireng\", 2023]\n",
        "list.append(\"until the end\")\n",
        "print(list)\n",
        "print(list[1])\n",
        "print(list[2:4])\n",
        "print(list[:4])\n",
        "list[1] = \"benci\"\n",
        "print(list)\n",
        "len(list)"
      ],
      "metadata": {
        "colab": {
          "base_uri": "https://localhost:8080/"
        },
        "id": "Kwf-UblcEK4n",
        "outputId": "44076b4f-31b0-431d-c48e-dd56bf24bccd"
      },
      "execution_count": null,
      "outputs": [
        {
          "output_type": "stream",
          "name": "stdout",
          "text": [
            "['I', 'love', 'Danet', 'Ireng', 2023, 'until the end']\n",
            "love\n",
            "['Danet', 'Ireng']\n",
            "['I', 'love', 'Danet', 'Ireng']\n",
            "['I', 'benci', 'Danet', 'Ireng', 2023, 'until the end']\n"
          ]
        },
        {
          "output_type": "execute_result",
          "data": {
            "text/plain": [
              "6"
            ]
          },
          "metadata": {},
          "execution_count": 12
        }
      ]
    },
    {
      "cell_type": "code",
      "source": [
        "#Dictionary pada Python adalah tipe data yang menyerupai tabel dan terdiri\n",
        "#atas key dan value. Dictionary dibuat dengan simbol kurung kurawal {}.\n",
        "#Contohnya sebagai berikut:\n",
        "\n",
        "myDict = {}\n",
        "myDict ['one'] = 1\n",
        "myDict[2] = \"My age is 27 years old\"\n",
        "myDict[\"3\"] = 30\n",
        "\n",
        "print(myDict ['one'])\n",
        "print(myDict [2])\n",
        "print(myDict.keys())\n",
        "print(myDict.values)"
      ],
      "metadata": {
        "id": "x91KMI6PGg6H",
        "colab": {
          "base_uri": "https://localhost:8080/"
        },
        "outputId": "52c0a8d0-27c5-40fb-dc1e-794140db3ff3"
      },
      "execution_count": 2,
      "outputs": [
        {
          "output_type": "stream",
          "name": "stdout",
          "text": [
            "1\n",
            "My age is 19 years old\n",
            "dict_keys(['one', 2, '3'])\n",
            "dict_values([1, 'My age is 19 years old', 30])\n"
          ]
        }
      ]
    },
    {
      "cell_type": "code",
      "source": [
        "#Tuple adalah baris data yang dapat menyimpan berbagai tipe variabel.\n",
        "#Perbedaan Tuple dengan list adalah ukuran dan isi tuple tidak bisa berubah.\n",
        "#Tuple dibuat dengan simbol kurung ( ) seperti contoh berikut:\n",
        "\n",
        "tp = ('time', 'to', 'wash', 'your gadget', 1, 2 ,3)\n",
        "print(tp [0])\n",
        "tp[2] = \"wash\""
      ],
      "metadata": {
        "colab": {
          "base_uri": "https://localhost:8080/"
        },
        "id": "l7nS-jT8uMs7",
        "outputId": "3f06cf60-9bbb-41ec-8c27-d7b265e5e7f5"
      },
      "execution_count": 7,
      "outputs": [
        {
          "output_type": "stream",
          "name": "stdout",
          "text": [
            "time\n"
          ]
        }
      ]
    },
    {
      "cell_type": "code",
      "source": [
        "#Pemilihan atau selection pada Python kurang lebih sama dengan bahasa\n",
        "#pemrograman yang lain, hanya saja yang membedakan adalah tidak ada penggunakan\n",
        "#kurung kurawal. Statemen yang berjalan pada pemilihan dibedakan dengan identasi 1\n",
        "#tab. Untuk sintaks yang digunakan adalah if, else, dan elif (else if) yang diikuti dengan\n",
        "#titik dua untuk membuka sintaks. Contohnya sebagai berikut:\n",
        "\n",
        "nama = \"Dave Sebastian Petrus\"\n",
        "if len(nama)<10:\n",
        "  print(\"You're lucky\")\n",
        "elif len(nama)<20 and len (nama) >= 10:\n",
        "  print(\"You're very lucky\")\n",
        "else :\n",
        "  print(\"You're super lucky\")"
      ],
      "metadata": {
        "colab": {
          "base_uri": "https://localhost:8080/"
        },
        "id": "miTdCENh0D62",
        "outputId": "76cd6e09-8347-434c-86ba-8bb31fac4813"
      },
      "execution_count": 10,
      "outputs": [
        {
          "output_type": "stream",
          "name": "stdout",
          "text": [
            "You're super lucky\n"
          ]
        }
      ]
    },
    {
      "cell_type": "code",
      "source": [
        "list = [\"tu\", \"wa\", \"ga\"]\n",
        "parameter = [0,1,2,3,4,5]\n",
        "\n",
        "temp = 0\n",
        "for number in parameter:\n",
        "    print(number)\n",
        "    temp=temp+number\n",
        "\n",
        "print(\"nilai temp:\", temp)\n",
        "\n",
        "for isi in list:\n",
        "    print(isi*6)\n",
        "\n",
        "for item in list:\n",
        "    print(item+item)"
      ],
      "metadata": {
        "colab": {
          "base_uri": "https://localhost:8080/"
        },
        "id": "pJ6PwAtq1Rf5",
        "outputId": "31b4da4b-7e48-4612-ab34-292fe499571f"
      },
      "execution_count": 13,
      "outputs": [
        {
          "output_type": "stream",
          "name": "stdout",
          "text": [
            "0\n",
            "1\n",
            "2\n",
            "3\n",
            "4\n",
            "5\n",
            "nilai temp: 15\n",
            "tutututututu\n",
            "wawawawawawa\n",
            "gagagagagaga\n",
            "tutu\n",
            "wawa\n",
            "gaga\n"
          ]
        }
      ]
    },
    {
      "cell_type": "code",
      "source": [
        "#Kita dapat menentukan range menggunakan sintaks range atau membuat numpy\n",
        "#array dengan sintaks np.arange seperti berikut:\n",
        "\n",
        "import numpy as np\n",
        "\n",
        "for i in range(0,21,4):\n",
        "    print(i)\n",
        "\n",
        "n_test=np.arange(1,11,2)\n",
        "\n",
        "print(n_test)\n",
        "\n",
        "for item in n_test:\n",
        "    print(item)"
      ],
      "metadata": {
        "colab": {
          "base_uri": "https://localhost:8080/"
        },
        "id": "ppbvY6EM4f7l",
        "outputId": "16b6c596-2a1b-4102-f7a6-e97046ec5be4"
      },
      "execution_count": 25,
      "outputs": [
        {
          "output_type": "stream",
          "name": "stdout",
          "text": [
            "0\n",
            "4\n",
            "8\n",
            "12\n",
            "16\n",
            "20\n",
            "[1 3 5 7 9]\n",
            "1\n",
            "3\n",
            "5\n",
            "7\n",
            "9\n"
          ]
        }
      ]
    },
    {
      "cell_type": "code",
      "source": [
        "#Sedangkan while menggunakan sintaks: while(statement):\n",
        "\n",
        "i = 1\n",
        "while i <= 10:\n",
        "    print(\"i is: {}\".format(i))\n",
        "    i=i+1"
      ],
      "metadata": {
        "colab": {
          "base_uri": "https://localhost:8080/"
        },
        "id": "5nP9QQGh7itu",
        "outputId": "d4eca68f-a16c-417a-c41b-6881c2a5f9a1"
      },
      "execution_count": 30,
      "outputs": [
        {
          "output_type": "stream",
          "name": "stdout",
          "text": [
            "i is: 1\n",
            "i is: 2\n",
            "i is: 3\n",
            "i is: 4\n",
            "i is: 5\n",
            "i is: 6\n",
            "i is: 7\n",
            "i is: 8\n",
            "i is: 9\n",
            "i is: 10\n"
          ]
        }
      ]
    },
    {
      "cell_type": "code",
      "source": [
        "#Untuk pembuatan fungsi dan modul/prosedur, keduanya menggunakan sintaks:\n",
        "#def name_func_or_module(params):\n",
        "#Perbedaannya adalah function menggunakan sintaks return untuk mengembalikan\n",
        "#nilai, sedangkan module/prosedur tidak\n",
        "#Contoh function:\n",
        "\n",
        "def luasSegitiga(alas, tinggi):\n",
        "    luas=0.5*(alas*tinggi)\n",
        "    return luas\n",
        "\n",
        "a = 3\n",
        "t = 4\n",
        "\n",
        "print(luasSegitiga(a,t))"
      ],
      "metadata": {
        "colab": {
          "base_uri": "https://localhost:8080/"
        },
        "id": "h3X2NgXM8i3S",
        "outputId": "0af079a0-3cc4-4bac-f9a2-37229df47012"
      },
      "execution_count": 31,
      "outputs": [
        {
          "output_type": "stream",
          "name": "stdout",
          "text": [
            "6.0\n"
          ]
        }
      ]
    },
    {
      "cell_type": "code",
      "source": [
        "#Contoh module:\n",
        "\n",
        "def PrintNamaXKali(nama, jumlah):\n",
        "    print(nama*jumlah)\n",
        "\n",
        "nama = \"Dave Petrus\"\n",
        "jumlah = 10\n",
        "\n",
        "PrintNamaXKali(nama, jumlah)"
      ],
      "metadata": {
        "colab": {
          "base_uri": "https://localhost:8080/"
        },
        "id": "mIAEPxvm9X9d",
        "outputId": "ab060e2f-1b3e-4362-8e66-2259ff1c8f86"
      },
      "execution_count": 36,
      "outputs": [
        {
          "output_type": "stream",
          "name": "stdout",
          "text": [
            "Dave PetrusDave PetrusDave PetrusDave PetrusDave PetrusDave PetrusDave PetrusDave PetrusDave PetrusDave Petrus\n"
          ]
        }
      ]
    }
  ]
}